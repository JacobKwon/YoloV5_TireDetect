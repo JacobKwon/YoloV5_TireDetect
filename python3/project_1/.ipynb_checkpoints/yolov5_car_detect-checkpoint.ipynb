{
 "cells": [
  {
   "cell_type": "markdown",
   "id": "14cc2731",
   "metadata": {},
   "source": [
    "https://www.kaggle.com/code/balraj98/yolo-v5-car-object-detection\n",
    "https://www.kaggle.com/datasets/sshikamaru/car-object-detection"
   ]
  },
  {
   "cell_type": "code",
   "execution_count": 3,
   "id": "d3df0559",
   "metadata": {},
   "outputs": [],
   "source": [
    "import os, time, random\n",
    "import numpy as np\n",
    "import pandas as pd\n",
    "import cv2, torch\n",
    "from tqdm.auto import tqdm\n",
    "import shutil as sh\n",
    "\n",
    "from IPython.display import Image, clear_output\n",
    "import matplotlib.pyplot as plt\n",
    "%matplotlib inline"
   ]
  },
  {
   "cell_type": "code",
   "execution_count": null,
   "id": "47642a33",
   "metadata": {},
   "outputs": [],
   "source": [
    "%%time\n",
    "\n",
    "!git clone https://github.com/ultralytics/yolov5  # clone repo\n",
    "!pip install -U pycocotools\n",
    "!pip install -qr yolov5/requirements.txt  # install dependencies\n",
    "!cp yolov5/requirements.txt ./"
   ]
  },
  {
   "cell_type": "code",
   "execution_count": null,
   "id": "69e91253",
   "metadata": {},
   "outputs": [],
   "source": [
    "img_h, img_w, num_channels = (380, 676, 3)\n",
    "df = pd.read_csv('../input/car-object-detection/data/train_solution_bounding_boxes (1).csv')\n",
    "df.rename(columns={'image':'image_id'}, inplace=True)\n",
    "df['image_id'] = df['image_id'].apply(lambda x: x.split('.')[0])\n",
    "df['x_center'] = (df['xmin'] + df['xmax'])/2\n",
    "df['y_center'] = (df['ymin'] + df['ymax'])/2\n",
    "df['w'] = df['xmax'] - df['xmin']\n",
    "df['h'] = df['ymax'] - df['ymin']\n",
    "df['classes'] = 0\n",
    "df['x_center'] = df['x_center']/img_w\n",
    "df['w'] = df['w']/img_w\n",
    "df['y_center'] = df['y_center']/img_h\n",
    "df['h'] = df['h']/img_h\n",
    "df.head()"
   ]
  },
  {
   "cell_type": "code",
   "execution_count": null,
   "id": "c8ffd90b",
   "metadata": {},
   "outputs": [],
   "source": [
    "index = list(set(df.image_id))\n",
    "image = random.choice(index)\n",
    "print(\"Image ID: %s\"%(image))\n",
    "img = cv2.imread(f'/kaggle/input/car-object-detection/data/training_images/{image}.jpg')\n",
    "img.shape"
   ]
  },
  {
   "cell_type": "code",
   "execution_count": null,
   "id": "e942cde5",
   "metadata": {},
   "outputs": [],
   "source": [
    "image = random.choice(index)\n",
    "Image(filename=f'/kaggle/input/car-object-detection/data/training_images/{image}.jpg',width=600)"
   ]
  },
  {
   "cell_type": "markdown",
   "id": "313b1273",
   "metadata": {},
   "source": [
    "Training (Work in Progress)"
   ]
  },
  {
   "cell_type": "code",
   "execution_count": null,
   "id": "2e09d02c",
   "metadata": {},
   "outputs": [],
   "source": [
    "source = 'training_images'\n",
    "if True:\n",
    "    for fold in [0]:\n",
    "        val_index = index[len(index)*fold//5:len(index)*(fold+1)//5]\n",
    "        for name,mini in tqdm(df.groupby('image_id')):\n",
    "            if name in val_index:\n",
    "                path2save = 'val2017/'\n",
    "            else:\n",
    "                path2save = 'train2017/'\n",
    "            if not os.path.exists('/tmp/convertor/fold{}/labels/'.format(fold)+path2save):\n",
    "                os.makedirs('/tmp/convertor/fold{}/labels/'.format(fold)+path2save)\n",
    "            with open('/tmp/convertor/fold{}/labels/'.format(fold)+path2save+name+\".txt\", 'w+') as f:\n",
    "                row = mini[['classes','x_center','y_center','w','h']].astype(float).values\n",
    "                row = row.astype(str)\n",
    "                for j in range(len(row)):\n",
    "                    text = ' '.join(row[j])\n",
    "                    f.write(text)\n",
    "                    f.write(\"\\n\")\n",
    "            if not os.path.exists('/tmp/convertor/fold{}/images/{}'.format(fold,path2save)):\n",
    "                os.makedirs('/tmp/convertor/fold{}/images/{}'.format(fold,path2save))\n",
    "            sh.copy(\"/kaggle/input/car-object-detection/data/{}/{}.jpg\".format(source,name),'/tmp/convertor/fold{}/images/{}/{}.jpg'.format(fold,path2save,name))"
   ]
  },
  {
   "cell_type": "code",
   "execution_count": null,
   "id": "d4e7c468",
   "metadata": {},
   "outputs": [],
   "source": [
    "#!python train.py --batch 2 --epochs 1 --data ../input/yolov5-config/car.yaml --cfg ../input/yolov5-config/yolov5x.yaml --name yolov5x_fold0_new"
   ]
  },
  {
   "cell_type": "markdown",
   "id": "eea32aac",
   "metadata": {},
   "source": [
    "Prediction"
   ]
  },
  {
   "cell_type": "code",
   "execution_count": null,
   "id": "1139967b",
   "metadata": {},
   "outputs": [],
   "source": [
    "!python yolov5/detect.py --weights yolov5/yolov5s.pt --img 676 --conf 0.4 --source /kaggle/input/car-object-detection/data/testing_images"
   ]
  },
  {
   "cell_type": "code",
   "execution_count": null,
   "id": "a2ea32ea",
   "metadata": {},
   "outputs": [],
   "source": [
    "predicted_files = []\n",
    "for (dirpath, dirnames, filenames) in os.walk(\"runs/detect/exp\"):\n",
    "    predicted_files.extend(filenames)"
   ]
  },
  {
   "cell_type": "code",
   "execution_count": null,
   "id": "a13046a8",
   "metadata": {},
   "outputs": [],
   "source": [
    "Image(filename=f'runs/detect/exp/{random.choice(predicted_files)}')"
   ]
  },
  {
   "cell_type": "code",
   "execution_count": null,
   "id": "50a5ab8a",
   "metadata": {},
   "outputs": [],
   "source": [
    "Image(filename=f'runs/detect/exp/{random.choice(predicted_files)}')"
   ]
  },
  {
   "cell_type": "code",
   "execution_count": null,
   "id": "a93b7a77",
   "metadata": {},
   "outputs": [],
   "source": [
    "Image(filename=f'runs/detect/exp/{random.choice(predicted_files)}')"
   ]
  },
  {
   "cell_type": "code",
   "execution_count": null,
   "id": "749b1078",
   "metadata": {},
   "outputs": [],
   "source": [
    "Image(filename=f'runs/detect/exp/{random.choice(predicted_files)}')"
   ]
  },
  {
   "cell_type": "code",
   "execution_count": null,
   "id": "badcd4a8",
   "metadata": {},
   "outputs": [],
   "source": [
    "!rm -rf runs yolov5"
   ]
  },
  {
   "cell_type": "code",
   "execution_count": null,
   "id": "0d3bf5a8",
   "metadata": {},
   "outputs": [],
   "source": []
  }
 ],
 "metadata": {
  "kernelspec": {
   "display_name": "Python 3 (ipykernel)",
   "language": "python",
   "name": "python3"
  },
  "language_info": {
   "codemirror_mode": {
    "name": "ipython",
    "version": 3
   },
   "file_extension": ".py",
   "mimetype": "text/x-python",
   "name": "python",
   "nbconvert_exporter": "python",
   "pygments_lexer": "ipython3",
   "version": "3.8.13"
  }
 },
 "nbformat": 4,
 "nbformat_minor": 5
}
